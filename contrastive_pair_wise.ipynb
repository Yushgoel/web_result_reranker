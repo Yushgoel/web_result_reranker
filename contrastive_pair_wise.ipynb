{
 "cells": [
  {
   "cell_type": "code",
   "execution_count": 1,
   "metadata": {},
   "outputs": [
    {
     "name": "stderr",
     "output_type": "stream",
     "text": [
      "/opt/conda/lib/python3.10/site-packages/tqdm/auto.py:21: TqdmWarning: IProgress not found. Please update jupyter and ipywidgets. See https://ipywidgets.readthedocs.io/en/stable/user_install.html\n",
      "  from .autonotebook import tqdm as notebook_tqdm\n"
     ]
    }
   ],
   "source": [
    "import numpy as np\n",
    "import datasets\n",
    "import torch\n",
    "from torcheval.metrics import BinaryAUROC\n",
    "import transformers\n",
    "import matplotlib.pyplot as plt\n",
    "import wandb\n",
    "\n",
    "CUDA_JOB_NUM = 1\n",
    "cuda_model = f\"cuda:{CUDA_JOB_NUM}\""
   ]
  },
  {
   "cell_type": "code",
   "execution_count": 2,
   "metadata": {},
   "outputs": [
    {
     "data": {
      "text/plain": [
       "DatasetDict({\n",
       "    validation: Dataset({\n",
       "        features: ['answers', 'passages', 'query', 'query_id', 'query_type', 'wellFormedAnswers'],\n",
       "        num_rows: 101093\n",
       "    })\n",
       "    train: Dataset({\n",
       "        features: ['answers', 'passages', 'query', 'query_id', 'query_type', 'wellFormedAnswers'],\n",
       "        num_rows: 808731\n",
       "    })\n",
       "    test: Dataset({\n",
       "        features: ['answers', 'passages', 'query', 'query_id', 'query_type', 'wellFormedAnswers'],\n",
       "        num_rows: 101092\n",
       "    })\n",
       "})"
      ]
     },
     "execution_count": 2,
     "metadata": {},
     "output_type": "execute_result"
    }
   ],
   "source": [
    "ds = datasets.load_from_disk(\"ms_marco\")\n",
    "\n",
    "ds"
   ]
  },
  {
   "cell_type": "code",
   "execution_count": 3,
   "metadata": {},
   "outputs": [
    {
     "data": {
      "text/plain": [
       "{'answers': [['The immediate impact of the success of the manhattan project was the only cloud hanging over the impressive achievement of the atomic researchers and engineers is what their success truly meant; hundreds of thousands of innocent lives obliterated.'],\n",
       "  ['Restorative justice that fosters dialogue between victim and offender has shown the highest rates of victim satisfaction and offender accountability.'],\n",
       "  ['The reasons why Stalin wanted to control Eastern Europe are Russia has historically no secure border and they wanted to set up satellite countries.'],\n",
       "  ['Nails rust in water because water allows the iron to react with any oxygen present, which forms iron oxide. Nails rust due to presence of some impurities in the water, particularly salts, which speeds up the transfer of electrons from iron to oxygen.'],\n",
       "  ['Depona Ab is a library in Vilhelmina, Sweden.'],\n",
       "  ['No Answer Present.'],\n",
       "  ['$43,746 for the 2014-2015 academic year.'],\n",
       "  ['Before the age of 2–4 years.'],\n",
       "  ['Americans brush for just under the two minutes on average.'],\n",
       "  ['Yes, funner is a word.']],\n",
       " 'passages': [{'is_selected': [1, 0, 0, 0, 0, 0, 0, 0, 0, 0],\n",
       "   'passage_text': ['The presence of communication amid scientific minds was equally important to the success of the Manhattan Project as scientific intellect was. The only cloud hanging over the impressive achievement of the atomic researchers and engineers is what their success truly meant; hundreds of thousands of innocent lives obliterated.',\n",
       "    'The Manhattan Project and its atomic bomb helped bring an end to World War II. Its legacy of peaceful uses of atomic energy continues to have an impact on history and science.',\n",
       "    'Essay on The Manhattan Project - The Manhattan Project The Manhattan Project was to see if making an atomic bomb possible. The success of this project would forever change the world forever making it known that something this powerful can be manmade.',\n",
       "    'The Manhattan Project was the name for a project conducted during World War II, to develop the first atomic bomb. It refers specifically to the period of the project from 194 … 2-1946 under the control of the U.S. Army Corps of Engineers, under the administration of General Leslie R. Groves.',\n",
       "    'versions of each volume as well as complementary websites. The first website–The Manhattan Project: An Interactive History–is available on the Office of History and Heritage Resources website, http://www.cfo. doe.gov/me70/history. The Office of History and Heritage Resources and the National Nuclear Security',\n",
       "    'The Manhattan Project. This once classified photograph features the first atomic bomb — a weapon that atomic scientists had nicknamed Gadget.. The nuclear age began on July 16, 1945, when it was detonated in the New Mexico desert.',\n",
       "    'Nor will it attempt to substitute for the extraordinarily rich literature on the atomic bombs and the end of World War II. This collection does not attempt to document the origins and development of the Manhattan Project.',\n",
       "    'Manhattan Project. The Manhattan Project was a research and development undertaking during World War II that produced the first nuclear weapons. It was led by the United States with the support of the United Kingdom and Canada. From 1942 to 1946, the project was under the direction of Major General Leslie Groves of the U.S. Army Corps of Engineers. Nuclear physicist Robert Oppenheimer was the director of the Los Alamos Laboratory that designed the actual bombs. The Army component of the project was designated the',\n",
       "    'In June 1942, the United States Army Corps of Engineersbegan the Manhattan Project- The secret name for the 2 atomic bombs.',\n",
       "    \"One of the main reasons Hanford was selected as a site for the Manhattan Project's B Reactor was its proximity to the Columbia River, the largest river flowing into the Pacific Ocean from the North American coast.\"],\n",
       "   'url': ['http://www.pitt.edu/~sdb14/atombomb.html',\n",
       "    'http://www.osti.gov/accomplishments/manhattan_story.html',\n",
       "    'http://www.123helpme.com/impact-of-the-manhattan-project-preview.asp?id=177337',\n",
       "    'http://www.answers.com/Q/How_did_the_Manhattan_Project_impact_on_society',\n",
       "    'https://www.osti.gov/manhattan-project-history/publications/Manhattan_Project_2010.pdf',\n",
       "    'http://www.ushistory.org/us/51f.asp',\n",
       "    'http://nsarchive.gwu.edu/NSAEBB/NSAEBB162',\n",
       "    'https://en.wikipedia.org/wiki/Manhattan_Project',\n",
       "    'https://quizlet.com/41456230/a-bomb-flash-cards/',\n",
       "    'https://www.atomicheritage.org/history/environmental-consequences']},\n",
       "  {'is_selected': [0, 0, 0, 0, 0, 0, 1, 0, 0, 0],\n",
       "   'passage_text': ['group discussions, community boards or panels with a third party, or victim and offender dialogues, and requires a skilled facilitator who also has sufficient understanding of sexual assault, domestic violence, and dating violence, as well as trauma and safety issues.',\n",
       "    \"punishment designed to repair the damage done to the victim and community by an offender's criminal act. Ex: community service, Big Brother program indeterminate sentence\",\n",
       "    'Tutorial: Introduction to Restorative Justice. Restorative justice is a theory of justice that emphasizes repairing the harm caused by criminal behaviour. It is best accomplished through cooperative processes that include all stakeholders. This can lead to transformation of people, relationships and communities. Practices and programs reflecting restorative purposes will respond to crime by: 1  identifying and taking steps to repair harm, 2  involving all stakeholders, and. 3  transforming the traditional relationship between communities and their governments in responding to crime.',\n",
       "    'Organize volunteer community panels, boards, or committees that meet with the offender to discuss the incident and offender obligation to repair the harm to victims and community members. Facilitate the process of apologies to victims and communities. Invite local victim advocates to provide ongoing victim-awareness training for probation staff.',\n",
       "    'The purpose of this paper is to point out a number of unresolved issues in the criminal justice system, present the underlying principles of restorative justice, and then to review the growing amount of empirical data on victim-offender mediation.',\n",
       "    'Each of these types of communities—the geographic community of the victim, offender, or crime; the community of care; and civil society—may be injured by crime in different ways and degrees, but all will be affected in common ways as well: The sense of safety and confidence of their members is threatened, order within the community is threatened, and (depending on the kind of crime) common values of the community are challenged and perhaps eroded.',\n",
       "    'The approach is based on a theory of justice that considers crime and wrongdoing to be an offense against an individual or community, rather than the State. Restorative justice that fosters dialogue between victim and offender has shown the highest rates of victim satisfaction and offender accountability.',\n",
       "    'Inherent in many people’s understanding of the notion of ADR is the existence of a dispute between identifiable parties. Criminal justice, however, is not usually conceptualised as a dispute between victim and offender, but is instead seen as a matter concerning the relationship between the offender and the state. This raises a complex question as to whether a criminal offence can properly be described as a ‘dispute’.',\n",
       "    'Criminal justice, however, is not usually conceptualised as a dispute between victim and offender, but is instead seen as a matter concerning the relationship between the offender and the state. 3 This raises a complex question as to whether a criminal offence can properly be described as a ‘dispute’.',\n",
       "    'The circle includes a wide range of participants including not only the offender and the victim but also friends and families, community members, and justice system representatives. The primary distinction between conferencing and circles is that circles do not focus exclusively on the offense and do not limit their solutions to repairing the harm between the victim and the offender.'],\n",
       "   'url': ['https://www.justice.gov/ovw/file/926101/download',\n",
       "    'https://quizlet.com/1128245/criminal-justice-exam-1-flash-cards/',\n",
       "    'http://restorativejustice.org/restorative-justice/about-restorative-justice/tutorial-intro-to-restorative-justice/',\n",
       "    'https://www.ojjdp.gov/pubs/implementing/accountability.html',\n",
       "    'http://www.westerncriminology.org/documents/WCR/v01n1/Umbreit/Umbreit.html',\n",
       "    'https://www.sciencedirect.com/science/article/pii/B9781455731398000030',\n",
       "    'https://en.wikipedia.org/wiki/Restorative_justice',\n",
       "    'http://www.adrac.org.au/adr-mapping/criminal-justice-and-adr',\n",
       "    'https://www.mediate.com/articles/kirschnersbl20180126.cfm',\n",
       "    'https://www.sciencedirect.com/science/article/pii/B978145572599100014X']},\n",
       "  {'is_selected': [0, 0, 0, 0, 0, 0, 1, 0, 0, 0],\n",
       "   'passage_text': ['Western betrayal. The concept of Western betrayal refers to the view that the United Kingdom and France failed to meet their legal, diplomatic, military and moral obligations with respect to the Czech and Polish nations during the prelude to and aftermath of the Second World War.',\n",
       "    \"The Tuvan People's Republic, was proclaimed independent in 1921 and was a satellite state of Soviet Union until its annexation in 1944 by the Soviet Union. Another early Soviet satellite state in Asia was the short-lived Far East Republic in Siberia. Post-World War II\",\n",
       "    'Satellite state. The term satellite state designates a country that is formally independent in the world, but under heavy political, economic and military influence or control from another country. The term was coined by analogy to planetary objects orbiting a larger object, such as smaller moons revolving around larger planets, and is used mainly to refer to Central and Eastern European countries of the Warsaw Pact during the Cold War or to Mongolia or Tannu Tuva between 1924 and 1990, for example. As used for',\n",
       "    'According to Hakluyt, why should England pursue colonies in North America? Check all of the boxes that apply.',\n",
       "    \"An interview with Anne Applebaum about her new book, The Crushing of Eastern Europe. Soviet-built tanks wheel into action in a smoke-filled Budapest street during Hungary's rebellion against communist satellite government in October of 1956.\",\n",
       "    \"They therefore,if anything, tightened their grip, Hungary 1956,Czechoslovakia 1968 and the construction of the Berlin Wall all being examples.After Stalin,it wasn't so much the desire to extend Soviet power as paranoia about losing it that maintained Soviet desire to control Eastern Europe.\",\n",
       "    'There are 3 main reasons why Stalin wanted to control Eastern Europe. 1.) Russia has historically no secure border. 2.) They wanted to set up satellite countries. 3.)',\n",
       "    'Why did the United Nations send troops to Korea in 1950? They wanted to contain and push back the communist invaders from the North. Why was the Arab-Israeli conflict considered part of the Cold War?',\n",
       "    'On top of that, Russia had been the victim of attacks from the west multiple times. In 1914 and 1941 Germany attacked Russia through Poland. To Stalin, the past was a reliable indicator of what the future could hold. Stalin thought that having control over eastern europe could significantly undermine this threat. Despite this, it was agreed at the Yalta conference, with the consent of Stalin, that all the countries liberated from Nazi Germany would have the right to be democratic and politically independent.',\n",
       "    \"Not just Eastern Europe, Stalin wanted to control the world by creating an empire based on Communism. That's how they clashed with US who intended to control the world by building an empire based on Capitalism. That's what the Cold War is about.\"],\n",
       "   'url': ['https://en.wikipedia.org/wiki/Western_betrayal',\n",
       "    'https://en.wikipedia.org/wiki/Satellite_state',\n",
       "    'https://en.wikipedia.org/wiki/Satellite_state',\n",
       "    'https://brainly.com/question/1017368',\n",
       "    'https://www.theatlantic.com/international/archive/2012/10/how-communism-took-over-eastern-europe-after-world-war-ii/263938/',\n",
       "    'https://au.answers.yahoo.com/question/index?qid=20090606182326AAJ2h45',\n",
       "    'https://brainly.com/question/2960720',\n",
       "    'https://quizlet.com/11608325/history-flashcards/',\n",
       "    'http://www.markedbyteachers.com/gcse/history/how-did-stalin-take-over-eastern-europe-between-1945-and-1949.html',\n",
       "    'https://answers.yahoo.com/question/index?qid=20090928204102AAGBpWx']},\n",
       "  {'is_selected': [0, 0, 0, 0, 0, 1, 0, 0, 0, 0],\n",
       "   'passage_text': ['what to Do If I Stepped on Rusty Nail: Prevent Getting Tetanus. What to do if you step on a nail and are afraid to get Tetanus? Tetanus vaccines are available to help the body fight off the bacteria that causes this infection. Patients as young as two months are able to receive a tetanus shot.',\n",
       "    'Just asked! See more. 1  What is the minimum coefficient of friction ... Answer. 13 minutes ago. 2  How do you find the derivate of inverse sin ... Answer. 14 minutes ago. 3  You found the perfect pair of shorts for $24.99 ... Answer. 20 minutes ago. 4  What are the asymptote(s) and hole(s), if any, of ... Answer. 35 minutes ago.',\n",
       "    'In order to cause rust quickly, there must be some impurities in the water,... Nails rust in water because water allows the iron to react with any oxygen present, which forms iron oxide, known as rust. In order to cause rust quickly, there must be some impurities in the water,...',\n",
       "    'Rusty Nail and Tetanus It is commonly advised that people should avoid rusty nails because they are dangerous. One of the most common beliefs is that piercing the skin with a rusty nail can cause you to develop tetanus or lockjaw. Tetanus is referred to as lockjaw because the initial symptoms of the disease will cause the muscles around the mouth to become rigid.',\n",
       "    \"If you take an iron nail and let it rust in air, you'll find that the weight of the rusted nail is larger than that of the nail before it rusted. This gives the impression that the amount of mass hasn't remained constant, but what has really happened is that the oxygen in the air (which you didn't weigh) combined with the iron to make it rust. As a result, the weight of the oxygen plus the weight of the iron is equal to the weight of the rust that's formed. OK.\",\n",
       "    'A: Nails rust in water because water allows the iron to react with any oxygen present, which forms iron oxide, known as rust. In order to cause rust quickly, there must be some impurities in the water, particularly salts, since these speed up the transfer of electrons from iron to oxygen.',\n",
       "    'It is possible to contract tetanus if you are cut by a rusty nail. Tetanus is caused by the clostridium tetani bacteria which are commonly found in dust, soil and animal feces. Because these items are commonly found around areas like gardens or work sites where rusty nails are present, the general belief that rusty nails cause tetanus was born. It is important to note that it is not so much the rust on the nail that causes people to contract tetanus, but the fact that nails can cause deep wounds that make it easier for the tetanus infection to spread.',\n",
       "    'Just asked! See more. 1  What is the minimum coefficient of friction 2  ... How do you find the derivate of inverse sin 3  ... You found the perfect pair of shorts for $24.99 4  ... What are the asymptote(s) and hole(s), if any, of ...',\n",
       "    'Just asked! See more. 1  What is the minimum coefficient of friction ... Answer. 2  How do you find the derivate of inverse sin ... Answer. 3  You found the perfect pair of shorts for $24.99 ... Answer. 4  What are the asymptote(s) and hole(s), if any, of ... Answer.',\n",
       "    'Quick Answer. Nails rust in water because water allows the iron to react with any oxygen present, which forms iron oxide, known as rust. In order to cause rust quickly, there must be some impurities in the water, particularly salts, since these speed up the transfer of electrons from iron to oxygen. Continue Reading'],\n",
       "   'url': ['http://www.healthcare-online.org/Stepped-On-Rusty-Nail.html',\n",
       "    'https://socratic.org/questions/how-to-explain-the-law-of-conservation-of-mass-using-a-nail-rusting-in-air',\n",
       "    'https://www.reference.com/beauty-fashion/nails-rust-water-a757692adb7c0eb4',\n",
       "    'http://www.healthcare-online.org/Stepped-On-Rusty-Nail.html',\n",
       "    'https://socratic.org/questions/how-to-explain-the-law-of-conservation-of-mass-using-a-nail-rusting-in-air',\n",
       "    'https://www.reference.com/beauty-fashion/nails-rust-water-a757692adb7c0eb4',\n",
       "    'http://www.healthcare-online.org/Stepped-On-Rusty-Nail.html',\n",
       "    'https://socratic.org/questions/how-to-explain-the-law-of-conservation-of-mass-using-a-nail-rusting-in-air',\n",
       "    'https://socratic.org/questions/how-to-explain-the-law-of-conservation-of-mass-using-a-nail-rusting-in-air',\n",
       "    'https://www.reference.com/beauty-fashion/nails-rust-water-a757692adb7c0eb4']},\n",
       "  {'is_selected': [0, 0, 0, 0, 0, 0, 1, 0, 0, 0],\n",
       "   'passage_text': ['A preview of what LinkedIn members have to say about Göran: Göran är en mycket duktig och noggrann säljare och ledare. Under görans ledning och stöd byggde vi en effektiv och stark sälj/marknads organisation för outsourcing av dokumenthanteringstjänster i stor skala. Jag jobbar gärna med Göran närsomhelst och rekommenderar gärna Göran som er nästa sälj/marknadschef.',\n",
       "    'Depona Oy YTJ: Y-tunnus: 21527338 YTJ: Toimiala: Kirjastojen ja arkistojen toiminta (TOL: 91010) YTJ: Toimialakuvaus: (Päivitetty: 01.04.2008)',\n",
       "    'In the autumn of 2000, Svenska Standardbolag and Magnus Litens founded Sweden’s today leading actor in archive services, Depona AB. Depona operates in ten locations in Sweden and has thousands of customers who use their web-based archiving solution Visual archive. The history of Standardbolag. Lawyer Gustaf Bertil Ihrman, the founder of Svenska Standardbolag AB, had his office in the ”Ihrman villa” in Falun and conducted general legal services during the years of 1921–1953.',\n",
       "    \"View Martin Townsend’s profile on LinkedIn, the world's largest professional community. Martin has 6 jobs listed on their profile. See the complete profile on LinkedIn and discover Martin’s connections and jobs at similar companies.\",\n",
       "    'Uzņēmums Depona sāka darbu ar ideju, kas paredzēja atjaunināt un uzlabot arhivēšanas pakalpojumu tirgu, nodrošinot novatorisku lietotāju saskarni, labāku Valodas Dansk',\n",
       "    'Company Profile. Depona AB provides physical archive services. The Company offers business, organizations, and governmental agencies archival materials using the latest technology for recording, retrieval, and archive databases. Depona delivers services throughout Sweden.',\n",
       "    'Depona Ab is a library in Vilhelmina, Sweden. The company is located at Slggatan 1. This private company was founded in 1999 (about 16 years ago). A typical library has between 4 and 80 employees, meaning that Depona Ab, with a reported 5 employees, employs a typical amount of people for the industry within Sweden.',\n",
       "    'Svenska Standardbolag AB is the market leader in corporate cases in Sweden since 1954 and has assisted Swedish enterprises in more than 300 000 corporate cases. Our shelf company AB Grundstenen is our main product and more than 150 000 Swedish companies have been started with it.',\n",
       "    '1 5',\n",
       "    'Connecting decision makers to a dynamic network of information, people and ideas, Bloomberg quickly and accurately delivers business and financial information, news and insight around the world.'],\n",
       "   'url': ['https://www.linkedin.com/in/goranaxelsson',\n",
       "    'https://www.kauppalehti.fi/yritykset/yritys/depona+oy/21527338',\n",
       "    'http://www.standardbolag.com/about-us/',\n",
       "    'https://www.linkedin.com/in/martin-townsend-7b4b8026',\n",
       "    'http://www.depona.lv/kapec-depona/',\n",
       "    'https://www.bloomberg.com/profiles/companies/5175594Z:SS-depona-ab',\n",
       "    'http://listings.findthecompany.com/l/254874440/Depona-Ab',\n",
       "    'http://www.standardbolag.com/about-us/',\n",
       "    'https://www.facebook.com/pages/Depona/125125544239239',\n",
       "    'https://www.bloomberg.com/profiles/companies/5175594Z:SS-depona-ab']},\n",
       "  {'is_selected': [0, 0, 0, 0, 0, 0, 0, 0, 0, 0],\n",
       "   'passage_text': ['While Chicago O’Hare in 2014 was briefly the world’s busiest in flight counts, Atlanta has had the most flights for the past two years. Hartsfield-Jackson had a 1.8 percent increase in flights in 2016, while Chicago O’Hare had a 0.9 percent decline.',\n",
       "    \"More than 104 million travelers passed through Atlanta's airport last year, making the Delta Air Lines hub the world's busiest for passenger traffic, according to Airports Council International. The airport handles around 2,500 arrivals and departures, according to the airport's figures.\",\n",
       "    \"(Redirected from World's busiest airports by passenger traffic) The world's busiest airports by passenger traffic are measured by total passengers (data from Airports Council International), defined as passengers enplaned plus passengers deplaned plus direct-transit passengers.\",\n",
       "    'Most watched News videos Embed this Embed icon. 1  Choose a theme. Dark theme Dark. Light theme Light. <iframe style=width:1px;min-width:100%;height:352px src=http://www.dailymail.co.uk/api/most-watched-videos/news/dark frameborder=0 scrolling=no></iframe>. 2  Hurricane Harvey causes massive flooding after hitting...',\n",
       "    'Why is Atlanta the world’s busiest airport? With more than 250,000 passengers and nearly 2,500 arrivals and departures each day, a layover at Hartsfield-Jackson Atlanta International Airport is not uncommon.',\n",
       "    'Atlanta has the busiest airport in the world? Not New York City or Hong Kong? Whaaa? Here’s why: Delta’s HQ. In case you didn’t know, Delta Inc. has their headquarters in Atlanta. It was founded decades ago in Macon, Georgia but once Delta became a company they moved their headquarters north to Atlanta.',\n",
       "    \"Trailing Atlanta in the rankings of the world’s busiest airports was China’s Beijing Capital International Airport, which held on to its No. 2 ranking again in 2016. “Many pundits anticipated that ATL would be overtaken by Beijing (PEK) by 2015, which held the world's second spot last year,” ACI added in its statement.\",\n",
       "    'Atlanta became the first airport in the world to break that threshold in 2015, when it processed 101.5 million passengers. The passenger count rose again by 2.6% in 2016, jumping to 104.2 million fliers, according to ACI’s preliminary numbers.',\n",
       "    'Copyright© 2016-2017 City of Atlanta | All Rights Reserved. Our mission is to provide the Atlanta region a safe, secure and cost-competitive gateway to the world that drives economic development, operates with the highest level of customer service and efficiency, and exercises fiscal and environmental responsibility.',\n",
       "    \"Atlanta Hartsfield-Jackson International Airport, the busiest airport in the world, was hit with extended rain and high winds from Irma on Monday while many of Florida's airports remained closed as officials assess damage and try clean up from the powerful storm.\"],\n",
       "   'url': ['http://www.ajc.com/travel/hartsfield-jackson-retains-title-world-busiest-airport/1QbkFE3E6DBckQMPhMtROJ/',\n",
       "    'https://www.cnbc.com/2017/12/17/atlanta-airport-the-worlds-busiest-reports-power-outage.html',\n",
       "    'https://en.wikipedia.org/wiki/World%27s_busiest_airports_by_passenger_traffic',\n",
       "    'http://www.dailymail.co.uk/travel/travel_news/article-3218057/Atlanta-Hartsfield-Jackson-Airport-remains-world-s-busiest-96-million-passengers.html',\n",
       "    'http://www.bbc.com/travel/story/20130207-why-is-atlanta-the-worlds-busiest-airport',\n",
       "    'https://www.quora.com/Why-is-the-Atlanta-Airport-the-busiest-in-the-world',\n",
       "    'https://www.usatoday.com/story/travel/flights/todayinthesky/2017/04/19/worlds-busiest-airport-2016-s-atlanta-again/100654378/',\n",
       "    'https://www.usatoday.com/story/travel/flights/todayinthesky/2017/04/19/worlds-busiest-airport-2016-s-atlanta-again/100654378/',\n",
       "    'http://www.atl.com/',\n",
       "    'http://money.cnn.com/2017/09/11/news/companies/atlanta-atl-airport-irma-disruption/index.html']},\n",
       "  {'is_selected': [0, 1, 0, 0, 0, 0, 0, 0, 0, 0],\n",
       "   'passage_text': ['the cost of attending new york university is comparable to that of other selective private institutions new york university charges tuition and registration fees on a per unit basis for 2015 2016 the tuition rate is expected to be $ 1616 per unit plus registration and service feesthe estimated total tuition for the ms program is $ 51654 the board of trustees of new york university reserves the right to alter tuition and feesfinal tuition and fees for the 2015 16 academic year will be made official by april of this yearhe board of trustees of new york university reserves the right to alter tuition and fees final tuition and fees for the 2015 16 academic year will be made official by april of this year',\n",
       "    'tuition for new york university is $ 43746 for the 2014 2015 academic year this is 73 % more expensive than the national average private non profit four year college tuition of $ 25240he net out of pocket total cost you end up paying or financing though student loans is known as the net price the reported new york university net price for in state students $ 34268 for the 2013 2014 academic year this net price includes housing and meal expenses',\n",
       "    'the cost is $ 23628 and 117 % more expensive than the average new york tuition of $ 20118 for 4 year colleges tuition ranks 172nd in new york amongst 4 year colleges for affordability and is the 16th most expensive 4 year college in the stateprice does not vary by residence the school charges an additional fees of $ 2424 in addition to tuition bringing the total effective in state tuition to $ 46170he net out of pocket total cost you end up paying or financing though student loans is known as the net price the reported new york university net price for in state students $ 34268 for the 2013 2014 academic year this net price includes housing and meal expenses',\n",
       "    '$ 470 nonreturnable registration and services fee per point for registration after first point $ 66 the above table represents the tuition and fees for a graduate social work student enrolling in the 2015 2016 academic yearnew york university and the silver school of social work reserve the right to change its courses programs tuition and fees at any time 470 nonreturnable registration and services fee per point for registration after first point $ 66 the above table represents the tuition and fees for a graduate social work student enrolling in the 2015 2016 academic year',\n",
       "    'at the current published rates an estimated total tuition fees and living expense price for a 4 year bachelor s degree at new york university is $ 256088 for students graduating in normal timehe net out of pocket total cost you end up paying or financing though student loans is known as the net price the reported new york university net price for in state students $ 34268 for the 2013 2014 academic year this net price includes housing and meal expenses',\n",
       "    '$ 51958 this includes tuition and registration fees for executive masters students excluding nurse leaders fees also include a one time $ 1500 empa program fee a typical part time student enrolls in 2 courses per semester each academic yeara typical full time student enrolls in 4 courses per semester each academic year 2015 2016 tuition per credit $ 1589his includes tuition and registration fees for executive masters students excluding nurse leaders fees also include a one time $ 1500 empa program fee a typical part time student enrolls in 2 courses per semester each academic year',\n",
       "    'all fees are payable at the time of registration the office of the bursar is located at 25 west fourth street checks and drafts are to be drawn to the order of new york university for the exact amount of the tuition and fees requiredate payment of tuition fee $ 25 late registration fee commencing with the second week of classes $ 50 late registration fee commencing with the fifth week of classes $ 100 deposit upon acceptance nonreturnable $ 500 housing deposit if applicable upon acceptance nonreturnable $ 1000',\n",
       "    'nyu students in the halcyon days when tuition was only $ 50k per year nyu students in the halcyon days when tuition was only $ 50k per year it s no secret that matriculating at nyu is breathtakingly expensivenyu will cost you your arms legs soul is not breaking newsyu students in the halcyon days when tuition was only $ 50k per year nyu students in the halcyon days when tuition was only $ 50k per year it s no secret that matriculating at nyu is breathtakingly expensive',\n",
       "    'with this plan you budget the cost of your tuition and or housing after deducting any financial aid you will be receiving and or any payments you have made directly to nyu a nonrefundable enrollment fee of $ 50 is required when applying for the fall spring tuitionpay planate payment of tuition fee $ 25 late registration fee commencing with the second week of classes $ 50 late registration fee commencing with the fifth week of classes $ 100 deposit upon acceptance nonreturnable $ 500 housing deposit if applicable upon acceptance nonreturnable $ 1000',\n",
       "    'the net out of pocket total cost you end up paying or financing though student loans is known as the net price the reported new york university net price for in state students $ 34268 for the 2013 2014 academic year this net price includes housing and meal expenseshe net out of pocket total cost you end up paying or financing though student loans is known as the net price the reported new york university net price for in state students $ 34268 for the 2013 2014 academic year this net price includes housing and meal expenses'],\n",
       "   'url': ['http://cusp.nyu.edu/tuition-and-fees/',\n",
       "    'http://www.collegecalc.org/colleges/new-york/new-york-university/',\n",
       "    'http://www.collegecalc.org/colleges/new-york/new-york-university/',\n",
       "    'http://socialwork.nyu.edu/admissions/msw/tuition-fees.html',\n",
       "    'http://www.collegecalc.org/colleges/new-york/new-york-university/',\n",
       "    'http://wagner.nyu.edu/admissions/financialaid',\n",
       "    'http://bulletin.cas.nyu.edu/page/financial.aid',\n",
       "    'http://gothamist.com/2015/03/24/nyu_expensive.php',\n",
       "    'http://bulletin.cas.nyu.edu/page/financial.aid',\n",
       "    'http://www.collegecalc.org/colleges/new-york/new-york-university/']},\n",
       "  {'is_selected': [0, 0, 0, 0, 0, 0, 0, 1, 0, 0],\n",
       "   'passage_text': ['In an effort to better understand how children form memories, the researchers asked 140 kids between the ages of 4 and 13 to describe their earliest memories and then asked them to do the same thing two years later.',\n",
       "    'Conversely, a third of the children who were age 10 to 13 during the first interview described the same earliest memory during the second interview. More than half of the memories they recalled were the same at both interviews. The researchers are now studying why children remember certain events and not others.',\n",
       "    'However, when the offset of childhood amnesia is defined as the age at which the majority of memories are personal recollections rather than known events, then offset occurs at approximately 4.5 years old.',\n",
       "    \"The development of memory in children becomes evident within the first 2 to 3 years of a child's life as they show considerable advances in declarative memory. This enhancement continues into adolescence with major developments in short term memory, working memory, long term memory and autobiographical memory.\",\n",
       "    'Most adults remember little before their third or fourth birthdays, and the thinking has been that prior to this age children do not have the cognitive or language skills to process and store events as memories.',\n",
       "    'The way that researchers study the memory capabilities of infants in this age range is through measuring eye movements between test images presented. After doing this initial round of testing, the researchers would conduct follow-up tests both 5 minutes later and one day later.',\n",
       "    'As this happens, memories occurring in the preschool years tend to be lost. “As young children get older their first memories tend to get later and later, but around age 10 their memories crystallize,” Peterson tells WebMD.',\n",
       "    'Childhood amnesia, also called infantile amnesia, is the inability of adults to retrieve episodic memories before the age of 2–4 years, as well as the period before age 10 of which adults retain fewer memories than might otherwise be expected given the passage of time.',\n",
       "    'In children under the age of 4, the memory storage capacity limitation constrains complex comprehension processes. As the child grows older however, less processing is necessary which opens more storage space for memory.',\n",
       "    'Recent research on the development of memory has indicated that declarative, or explicit memory, may exist in infants who are even younger than two years old. For example, newborns who are less than 3 days old demonstrate a preference for their mother’s own voice.'],\n",
       "   'url': ['http://www.webmd.com/parenting/news/20110511/when-do-kids-form-their-first-memories',\n",
       "    'http://www.webmd.com/parenting/news/20110511/when-do-kids-form-their-first-memories',\n",
       "    'https://en.wikipedia.org/wiki/Childhood_amnesia',\n",
       "    'https://en.wikipedia.org/wiki/Memory_development',\n",
       "    'http://www.webmd.com/parenting/news/20110511/when-do-kids-form-their-first-memories',\n",
       "    'https://en.wikipedia.org/wiki/Memory_development',\n",
       "    'http://www.webmd.com/parenting/news/20110511/when-do-kids-form-their-first-memories',\n",
       "    'https://en.wikipedia.org/wiki/Childhood_amnesia',\n",
       "    'https://en.wikipedia.org/wiki/Memory_development',\n",
       "    'https://en.wikipedia.org/wiki/Memory_development']},\n",
       "  {'is_selected': [0, 0, 1, 0, 0, 0, 0, 0, 0, 0],\n",
       "   'passage_text': ['Your dentist or oral surgeon may use one of three types of anesthesia, depending on the expected complexity of the wisdom tooth extraction and your comfort level. Local anesthesia. Your dentist or oral surgeon administers local anesthesia with one or more injections near the site of each extraction.',\n",
       "    'Your dentist or oral surgeon may use one of three types of anesthesia, depending on the expected complexity of the wisdom tooth extraction and your comfort level. Options include: Local anesthesia.',\n",
       "    'On average, Americans brush for just under the two minutes recommended by dental professionals. African Americans brush 18 seconds longer than Americans as a whole, while younger adults ages 18 to 24 spend 16 seconds longer than average brushing. Nearly six of 10 Americans brush their teeth at bedtime and as soon as they wake up in the morning, while 38 percent brush after breakfast. About 17 percent brush after lunch, and 21 percent brush after dinner.',\n",
       "    'Nearly six of 10 Americans brush their teeth at bedtime and as soon as they wake up in the morning, while 38 percent brush after breakfast. According to the Delta Dental survey, 91 percent of Americans brush most frequently at home in their bathrooms over the sink.',\n",
       "    'Distance of the teeth need to be moved- The amount of space or distance that is required to move the teeth can also determine the average length of time to wear braces. If one has a minor orthodontic problem and the teeth have to travel only a narrow distance, then one may have shorter time duration for treatment.',\n",
       "    'The average length of time to wear braces can vary from one individual to another. Depending on the condition of the teeth and gums, the space available, the severity of the misaligned teeth, the distance which the teeth needs to cover and the cooperativeness of the individual to instructions. However, the average length of time to wear braces is usually from 1 to 2 years. For some individuals braces may have to be worn for longer period of time up to 3 years or so and for some other individuals the time duration to wear braces may be lesser. Factors which determines the duration of braces treatment-.',\n",
       "    'Most adults do not come close to brushing that long. These four steps are the best and easiest ways to help you remember how to care for your mouth, teeth and gums: Brush at least twice a day with fluoride toothpaste for at least two minutes, especially first thing in the morning and before bedtime.',\n",
       "    \"Use the tip of the brush to reach behind each front tooth on the top and bottom. In addition, don't forget flossing - it's just as important as brushing. If you don't brush your teeth long enough, you may not be getting your teeth clean enough. If you leave behind bacteria on the teeth after brushing, it can lead to serious problems such as gingivitis or periodontitis.\",\n",
       "    \"Though it is important to pay attention to how long you're brushing, it's even more important to make sure all surfaces are clean. Remember to brush using short strokes, moving back and forth against the teeth and gums, around the surface of every tooth.\",\n",
       "    'In fact, according to the Delta Dental survey, people who brush at least twice a day are 22 percent more likely to describe their oral health as good or better compared with those who brush less frequently. Unfortunately, 23 percent of Americans have gone two or more days without brushing their teeth in the past year.'],\n",
       "   'url': ['http://www.mayoclinic.org/tests-procedures/wisdom-tooth-extraction/basics/what-you-can-expect/PRC-20020652',\n",
       "    'http://www.mayoclinic.org/tests-procedures/wisdom-tooth-extraction/basics/what-you-can-expect/PRC-20020652',\n",
       "    'https://www.deltadental.com/Public/NewsMedia/NewsReleaseDentalSurveyFindsShortcomings_201409.jsp',\n",
       "    'https://www.deltadental.com/Public/NewsMedia/NewsReleaseDentalSurveyFindsShortcomings_201409.jsp',\n",
       "    'http://www.mytooth.net/braces/what-is-the-average-length-of-time-to-wear-braces/',\n",
       "    'http://www.mytooth.net/braces/what-is-the-average-length-of-time-to-wear-braces/',\n",
       "    'http://www.colgate.com/en/us/oc/oral-health/basics/brushing-and-flossing/article/how-long-should-you-brush-your-teeth-for-0113',\n",
       "    'http://www.colgate.com/en/us/oc/oral-health/basics/brushing-and-flossing/article/how-long-should-you-brush-your-teeth-for-0113',\n",
       "    'http://www.colgate.com/en/us/oc/oral-health/basics/brushing-and-flossing/article/how-long-should-you-brush-your-teeth-for-0113',\n",
       "    'https://www.deltadental.com/Public/NewsMedia/NewsReleaseDentalSurveyFindsShortcomings_201409.jsp']},\n",
       "  {'is_selected': [0, 0, 0, 0, 1, 0, 0, 0, 0, 0],\n",
       "   'passage_text': ['Taken from Wiktionary: Funnest is a regular superlative of the adjective fun. However, the use of fun as an adjective is itself still often seen as informal or casual and to be avoided in formal writing, and this would apply equally to the superlative form.',\n",
       "    'adjective, funnier, funniest. 1. providing fun; causing amusement or laughter; amusing; comical: a funny remark; a funny person. 2. attempting to amuse; facetious:',\n",
       "    '24 Comments. 1  I’ve never heard “funner”, but I hear “xyz is the funnies zyx ever” a lot. 2  GAH. “ 3 For example, you wouldn’t say that ‘The gray cat is catter than the black one.’ Cat is a noun.  Funner is a 1  word. I asked beacuase i watched suite life on deck and sally said now this is funner than your stupid bear shirt.',\n",
       "    \"Words don't have to be used often to be words. For instance, cryptosporidium is a word which is used less often by the people you meet than funner. Yet, the anchorwoman of your six o'clock news show would probably use cryptosporidium when appropriate, while avoiding funner in favor of more fun.\",\n",
       "    'Funner is, of course, a word in the same sense that ponyfraggis is a word, if word is defined as a pronounceable sequence of letters delimited by whitespace. In terms of usage, the frequency of use of More fun vs funner in formal writing suggest that funner is spoken slang. Naturally it is a word, too.',\n",
       "    '6 Answers 6. Funnest is a regular superlative of the adjective fun. However, the use of fun as an adjective is itself still often seen as informal or casual and to be avoided in formal writing, and this would apply equally to the superlative form.',\n",
       "    'I’ll toss in my two cents… For the heck of it.. Funner is a word in the Scrabble dictionary. It’s interesting that it’s in the Scrabble dictionary, but it’s not in the Oxford English Dictionary. The OED studies these words at a far greater depth than Scrabble–which happens to pulls its word-bank from Merriam Webster.',\n",
       "    'Funny and laughable are both applied to that which provokes laughter or deserves to be laughed at; funny is a colloquial term loosely applied and in popular use is commonly interchangeable with the other terms: a funny story, scene, joke; a laughable incident, mistake.',\n",
       "    'diversion, amusement, 1727, earlier a cheat, trick (c.1700), from verb fun (1680s) to cheat, hoax, of uncertain origin, probably a variant of Middle English fonnen befool (c.1400; see fond). Older sense is preserved in phrase to make fun of (1737) and funny money counterfeit bills (1938, though this may be more for the sake of the rhyme).',\n",
       "    \"something that provides mirth or amusement: A picnic would be fun. 2. enjoyment or playfulness: She's full of fun. verb (used with or without object), funned, funning.\"],\n",
       "   'url': ['https://english.stackexchange.com/questions/4066/is-funnest-a-word',\n",
       "    'http://www.dictionary.com/browse/funnier',\n",
       "    'http://unenlightenedenglish.com/2009/05/why-is-funner-not-a-word/',\n",
       "    'https://english.stackexchange.com/questions/137907/is-funner-a-word',\n",
       "    'https://english.stackexchange.com/questions/137907/is-funner-a-word',\n",
       "    'https://english.stackexchange.com/questions/4066/is-funnest-a-word',\n",
       "    'http://unenlightenedenglish.com/2009/05/why-is-funner-not-a-word/',\n",
       "    'http://www.dictionary.com/browse/funnier',\n",
       "    'http://www.dictionary.com/browse/funner',\n",
       "    'http://www.dictionary.com/browse/funner']}],\n",
       " 'query': [')what was the immediate impact of the success of the manhattan project?',\n",
       "  '_________ justice is designed to repair the harm to victim, the community and the offender caused by the offender criminal act. question 19 options:',\n",
       "  'why did stalin want control of eastern europe',\n",
       "  'why do nails get rusty',\n",
       "  'depona ab',\n",
       "  'is the atlanta airport the busiest in the world',\n",
       "  'nyu tuition cost',\n",
       "  'at what age do kids start to hold memories',\n",
       "  'average teeth brushing time',\n",
       "  'is funner a word?'],\n",
       " 'query_id': [1185869,\n",
       "  1185868,\n",
       "  1185854,\n",
       "  1185755,\n",
       "  1184773,\n",
       "  1174762,\n",
       "  467556,\n",
       "  28213,\n",
       "  44588,\n",
       "  410717],\n",
       " 'query_type': ['DESCRIPTION',\n",
       "  'DESCRIPTION',\n",
       "  'DESCRIPTION',\n",
       "  'DESCRIPTION',\n",
       "  'DESCRIPTION',\n",
       "  'LOCATION',\n",
       "  'NUMERIC',\n",
       "  'NUMERIC',\n",
       "  'NUMERIC',\n",
       "  'DESCRIPTION'],\n",
       " 'wellFormedAnswers': [[], [], [], [], [], [], [], [], [], []]}"
      ]
     },
     "execution_count": 3,
     "metadata": {},
     "output_type": "execute_result"
    }
   ],
   "source": [
    "ds['train'][0:10]"
   ]
  },
  {
   "cell_type": "code",
   "execution_count": 4,
   "metadata": {},
   "outputs": [],
   "source": [
    "from transformers import BertModel, AutoTokenizer, BertConfig\n",
    "\n",
    "class CrossEncoder(torch.nn.Module):\n",
    "    def __init__(self, model_name):\n",
    "        super(CrossEncoder, self).__init__()\n",
    "        config = BertConfig.from_pretrained(model_name)\n",
    "        self.bert = BertModel.from_pretrained(model_name)\n",
    "        self.tokenizer = AutoTokenizer.from_pretrained(model_name)\n",
    "        self.linear_layer1 = torch.nn.Linear(config.hidden_size, 300)\n",
    "        self.linear_layer2 = torch.nn.Linear(300, 50)\n",
    "        self.classifier_layer = torch.nn.Linear(50, 1)\n",
    "    \n",
    "    def forward(self, input_ids, attention_mask):\n",
    "        logits = self.bert(input_ids, attention_mask).pooler_output\n",
    "        logits = torch.relu(self.linear_layer1(logits))\n",
    "        logits = torch.relu(self.linear_layer2(logits))\n",
    "        logits = self.classifier_layer(logits)\n",
    "\n",
    "        return torch.sigmoid(logits)\n",
    "\n",
    "    def to(self, device):\n",
    "        self.bert.to(device)\n",
    "        self.linear_layer1.to(device)\n",
    "        self.linear_layer2.to(device)\n",
    "        self.classifier_layer.to(device)\n",
    "        return self\n"
   ]
  },
  {
   "cell_type": "code",
   "execution_count": 5,
   "metadata": {},
   "outputs": [],
   "source": [
    "def flatten(preds, labels):\n",
    "    final_preds = []\n",
    "    final_labels = []\n",
    "    for pred, label in zip(preds, labels):\n",
    "        final_preds.extend(pred)\n",
    "        final_labels.extend(label)\n",
    "    return np.array(final_preds), np.array(final_labels)\n",
    "\n",
    "def accuracy(preds, labels, flatten=True):\n",
    "    if flatten:\n",
    "        preds, labels = flatten(preds, labels)\n",
    "    accuracy = ((np.array(preds) > 0.5).astype(int) == np.array(labels)).mean()\n",
    "    return accuracy\n",
    "\n",
    "def roc_auc(preds, labels, flatten=True):\n",
    "    if flatten:\n",
    "        preds, labels = flatten(preds, labels)\n",
    "    roc_auc = BinaryAUROC(num_tasks=1)\n",
    "    roc_auc.update(torch.tensor(preds), torch.tensor(labels))\n",
    "    return roc_auc.compute()\n",
    "\n",
    "def precision(preds, labels, flatten=True):\n",
    "    if flatten:\n",
    "        preds, labels = flatten(preds, labels)\n",
    "    true_positives = sum(preds[labels == 1] > 0.5)\n",
    "    false_positives = sum(preds[labels == 0] > 0.5)\n",
    "    return true_positives / (true_positives + false_positives)\n",
    "\n",
    "def rank_score(preds, labels):\n",
    "    average_rank = 0\n",
    "    count = 0\n",
    "    for i in range(len(preds)):\n",
    "        preds_sorted_rank = np.argsort(np.argsort(preds[i])[::-1])\n",
    "        if len(preds_sorted_rank[labels[i] == 1]) > 0:\n",
    "            average_rank += np.mean(preds_sorted_rank[labels[i] == 1])\n",
    "            count += 1\n",
    "    return average_rank / count\n"
   ]
  },
  {
   "cell_type": "code",
   "execution_count": 6,
   "metadata": {},
   "outputs": [
    {
     "data": {
      "text/plain": [
       "CrossEncoder(\n",
       "  (bert): BertModel(\n",
       "    (embeddings): BertEmbeddings(\n",
       "      (word_embeddings): Embedding(30522, 768, padding_idx=0)\n",
       "      (position_embeddings): Embedding(512, 768)\n",
       "      (token_type_embeddings): Embedding(2, 768)\n",
       "      (LayerNorm): LayerNorm((768,), eps=1e-12, elementwise_affine=True)\n",
       "      (dropout): Dropout(p=0.1, inplace=False)\n",
       "    )\n",
       "    (encoder): BertEncoder(\n",
       "      (layer): ModuleList(\n",
       "        (0-11): 12 x BertLayer(\n",
       "          (attention): BertAttention(\n",
       "            (self): BertSdpaSelfAttention(\n",
       "              (query): Linear(in_features=768, out_features=768, bias=True)\n",
       "              (key): Linear(in_features=768, out_features=768, bias=True)\n",
       "              (value): Linear(in_features=768, out_features=768, bias=True)\n",
       "              (dropout): Dropout(p=0.1, inplace=False)\n",
       "            )\n",
       "            (output): BertSelfOutput(\n",
       "              (dense): Linear(in_features=768, out_features=768, bias=True)\n",
       "              (LayerNorm): LayerNorm((768,), eps=1e-12, elementwise_affine=True)\n",
       "              (dropout): Dropout(p=0.1, inplace=False)\n",
       "            )\n",
       "          )\n",
       "          (intermediate): BertIntermediate(\n",
       "            (dense): Linear(in_features=768, out_features=3072, bias=True)\n",
       "            (intermediate_act_fn): GELUActivation()\n",
       "          )\n",
       "          (output): BertOutput(\n",
       "            (dense): Linear(in_features=3072, out_features=768, bias=True)\n",
       "            (LayerNorm): LayerNorm((768,), eps=1e-12, elementwise_affine=True)\n",
       "            (dropout): Dropout(p=0.1, inplace=False)\n",
       "          )\n",
       "        )\n",
       "      )\n",
       "    )\n",
       "    (pooler): BertPooler(\n",
       "      (dense): Linear(in_features=768, out_features=768, bias=True)\n",
       "      (activation): Tanh()\n",
       "    )\n",
       "  )\n",
       "  (linear_layer1): Linear(in_features=768, out_features=300, bias=True)\n",
       "  (linear_layer2): Linear(in_features=300, out_features=50, bias=True)\n",
       "  (classifier_layer): Linear(in_features=50, out_features=1, bias=True)\n",
       ")"
      ]
     },
     "execution_count": 6,
     "metadata": {},
     "output_type": "execute_result"
    }
   ],
   "source": [
    "model = CrossEncoder(\"google-bert/bert-base-uncased\")\n",
    "model.to(cuda_model)"
   ]
  },
  {
   "cell_type": "code",
   "execution_count": 180,
   "metadata": {},
   "outputs": [
    {
     "data": {
      "text/plain": [
       "0.06528996040298732"
      ]
     },
     "execution_count": 180,
     "metadata": {},
     "output_type": "execute_result"
    }
   ],
   "source": [
    "k = 0\n",
    "count = 0\n",
    "for i in range(20000):\n",
    "    k += sum(ds['train'][i]['passages']['is_selected'])\n",
    "    count += len(ds['train'][i]['passages']['is_selected'])\n",
    "k / count"
   ]
  },
  {
   "cell_type": "code",
   "execution_count": 6,
   "metadata": {},
   "outputs": [],
   "source": [
    "def predict(model, batch_data):\n",
    "  final_preds = []\n",
    "  final_labels = []\n",
    "  with torch.no_grad():\n",
    "    for i in range(len(batch_data)):\n",
    "        data = batch_data[i]\n",
    "        tokens = model.tokenizer(\n",
    "            text=[data['query']] * len(data['passages']['passage_text']),\n",
    "            text_pair=data['passages']['passage_text'],\n",
    "            return_tensors='pt',\n",
    "            padding=True,\n",
    "            truncation=True\n",
    "        ).to(cuda_model)\n",
    "\n",
    "        \n",
    "        with torch.amp.autocast(cuda_model):  # Mixed precision\n",
    "            preds = model(tokens.input_ids, tokens.attention_mask).detach().cpu()\n",
    "        \n",
    "        final_labels.append(np.array(data['passages']['is_selected']))\n",
    "        final_preds.append(preds.numpy().reshape(-1))\n",
    "\n",
    "        del tokens\n",
    "        torch.cuda.empty_cache()\n",
    "  \n",
    "  return final_preds, final_labels"
   ]
  },
  {
   "cell_type": "code",
   "execution_count": 18,
   "metadata": {},
   "outputs": [],
   "source": [
    "def bad_rank_score(preds, labels):\n",
    "    average_rank = 0\n",
    "    count = 0\n",
    "    for i in range(len(preds)):\n",
    "        preds_sorted_rank = np.argsort(np.argsort(preds[i])[::-1])\n",
    "        if len(preds_sorted_rank[labels[i] == 1]) > 0:\n",
    "            average_rank += np.mean(preds_sorted_rank[labels[i] == 1])\n",
    "            count += 1\n",
    "    return average_rank / len(preds)"
   ]
  },
  {
   "cell_type": "code",
   "execution_count": 19,
   "metadata": {},
   "outputs": [
    {
     "name": "stdout",
     "output_type": "stream",
     "text": [
      "3.1154708520179373\n",
      "1.3895\n"
     ]
    }
   ],
   "source": [
    "preds, labels = predict(model, ds['validation'].select(range(1000)))\n",
    "# torch.nn.functional.binary_cross_entropy(torch.tensor(preds).float().reshape(1, -1), torch.tensor(labels).float().reshape(1, -1)) \n",
    "# print(roc_auc(preds, labels))\n",
    "print(rank_score(preds, labels))\n",
    "print(bad_rank_score(preds, labels))"
   ]
  },
  {
   "cell_type": "code",
   "execution_count": 9,
   "metadata": {},
   "outputs": [
    {
     "data": {
      "text/plain": [
       "(np.float64(9.992), np.float64(1.066334991708126))"
      ]
     },
     "execution_count": 9,
     "metadata": {},
     "output_type": "execute_result"
    }
   ],
   "source": [
    "np.mean([len(label) for label in labels]), np.mean([sum(label) for label in labels if sum(label) > 0])"
   ]
  },
  {
   "cell_type": "code",
   "execution_count": 10,
   "metadata": {},
   "outputs": [
    {
     "name": "stdout",
     "output_type": "stream",
     "text": [
      "0.03316749585406302\n"
     ]
    }
   ],
   "source": [
    "print(rank_score(labels, labels))"
   ]
  },
  {
   "cell_type": "code",
   "execution_count": 9,
   "metadata": {},
   "outputs": [
    {
     "data": {
      "text/html": [
       "Finishing last run (ID:0ao2az79) before initializing another..."
      ],
      "text/plain": [
       "<IPython.core.display.HTML object>"
      ]
     },
     "metadata": {},
     "output_type": "display_data"
    },
    {
     "data": {
      "text/html": [
       "<style>\n",
       "    table.wandb td:nth-child(1) { padding: 0 10px; text-align: left ; width: auto;} td:nth-child(2) {text-align: left ; width: 100%}\n",
       "    .wandb-row { display: flex; flex-direction: row; flex-wrap: wrap; justify-content: flex-start; width: 100% }\n",
       "    .wandb-col { display: flex; flex-direction: column; flex-basis: 100%; flex: 1; padding: 10px; }\n",
       "    </style>\n",
       "<div class=\"wandb-row\"><div class=\"wandb-col\"><h3>Run history:</h3><br/><table class=\"wandb\"><tr><td>epoch</td><td>▁▂▄▅▇█</td></tr><tr><td>train_accuracy</td><td>▅▇▇█▄▁</td></tr><tr><td>train_loss</td><td>▅▃▃▁▆█</td></tr><tr><td>train_precision</td><td>▃▅▅█▃▁</td></tr><tr><td>train_rank_score</td><td>█▅▄▁▂▆</td></tr><tr><td>train_roc_auc</td><td>▁▄▆█▇▅</td></tr><tr><td>validation_accuracy</td><td>▅▇▇█▄▁</td></tr><tr><td>validation_loss</td><td>▄▃▃▁▆█</td></tr><tr><td>validation_precision</td><td>▃▇▆█▃▁</td></tr><tr><td>validation_rank_score</td><td>▆▂▂▁▂█</td></tr><tr><td>validation_roc_auc</td><td>▁▆▇█▆▁</td></tr></table><br/></div><div class=\"wandb-col\"><h3>Run summary:</h3><br/><table class=\"wandb\"><tr><td>epoch</td><td>5</td></tr><tr><td>train_accuracy</td><td>0.09307</td></tr><tr><td>train_loss</td><td>0.94401</td></tr><tr><td>train_precision</td><td>0.06625</td></tr><tr><td>train_rank_score</td><td>2.49599</td></tr><tr><td>train_roc_auc</td><td>0.72813</td></tr><tr><td>validation_accuracy</td><td>0.09398</td></tr><tr><td>validation_loss</td><td>0.94161</td></tr><tr><td>validation_precision</td><td>0.05917</td></tr><tr><td>validation_rank_score</td><td>3.04604</td></tr><tr><td>validation_roc_auc</td><td>0.66062</td></tr></table><br/></div></div>"
      ],
      "text/plain": [
       "<IPython.core.display.HTML object>"
      ]
     },
     "metadata": {},
     "output_type": "display_data"
    },
    {
     "data": {
      "text/html": [
       " View run <strong style=\"color:#cdcd00\">fast-sea-12</strong> at: <a href='https://wandb.ai/yushgoel-experiments/exa_reranker/runs/0ao2az79' target=\"_blank\">https://wandb.ai/yushgoel-experiments/exa_reranker/runs/0ao2az79</a><br/> View project at: <a href='https://wandb.ai/yushgoel-experiments/exa_reranker' target=\"_blank\">https://wandb.ai/yushgoel-experiments/exa_reranker</a><br/>Synced 5 W&B file(s), 0 media file(s), 2 artifact file(s) and 0 other file(s)"
      ],
      "text/plain": [
       "<IPython.core.display.HTML object>"
      ]
     },
     "metadata": {},
     "output_type": "display_data"
    },
    {
     "data": {
      "text/html": [
       "Find logs at: <code>./wandb/run-20241015_235051-0ao2az79/logs</code>"
      ],
      "text/plain": [
       "<IPython.core.display.HTML object>"
      ]
     },
     "metadata": {},
     "output_type": "display_data"
    },
    {
     "data": {
      "text/html": [
       "Successfully finished last run (ID:0ao2az79). Initializing new run:<br/>"
      ],
      "text/plain": [
       "<IPython.core.display.HTML object>"
      ]
     },
     "metadata": {},
     "output_type": "display_data"
    },
    {
     "data": {
      "text/html": [
       "Tracking run with wandb version 0.18.3"
      ],
      "text/plain": [
       "<IPython.core.display.HTML object>"
      ]
     },
     "metadata": {},
     "output_type": "display_data"
    },
    {
     "data": {
      "text/html": [
       "Run data is saved locally in <code>/home/ubuntu/src/wandb/run-20241016_002649-3urtwmp7</code>"
      ],
      "text/plain": [
       "<IPython.core.display.HTML object>"
      ]
     },
     "metadata": {},
     "output_type": "display_data"
    },
    {
     "data": {
      "text/html": [
       "Syncing run <strong><a href='https://wandb.ai/yushgoel-experiments/exa_reranker/runs/3urtwmp7' target=\"_blank\">northern-star-18</a></strong> to <a href='https://wandb.ai/yushgoel-experiments/exa_reranker' target=\"_blank\">Weights & Biases</a> (<a href='https://wandb.me/run' target=\"_blank\">docs</a>)<br/>"
      ],
      "text/plain": [
       "<IPython.core.display.HTML object>"
      ]
     },
     "metadata": {},
     "output_type": "display_data"
    },
    {
     "data": {
      "text/html": [
       " View project at <a href='https://wandb.ai/yushgoel-experiments/exa_reranker' target=\"_blank\">https://wandb.ai/yushgoel-experiments/exa_reranker</a>"
      ],
      "text/plain": [
       "<IPython.core.display.HTML object>"
      ]
     },
     "metadata": {},
     "output_type": "display_data"
    },
    {
     "data": {
      "text/html": [
       " View run at <a href='https://wandb.ai/yushgoel-experiments/exa_reranker/runs/3urtwmp7' target=\"_blank\">https://wandb.ai/yushgoel-experiments/exa_reranker/runs/3urtwmp7</a>"
      ],
      "text/plain": [
       "<IPython.core.display.HTML object>"
      ]
     },
     "metadata": {},
     "output_type": "display_data"
    },
    {
     "name": "stdout",
     "output_type": "stream",
     "text": [
      "Epoch 0\n",
      "0\n",
      "300\n",
      "600\n",
      "900\n",
      "1200\n",
      "1500\n",
      "1800\n",
      "2100\n",
      "2400\n",
      "2700\n",
      "Training Stats - ROC AUC: 0.6249236659570713, Accuracy: 0.5447357886309048, Precision: 0.08832209106239461, Rank Score: 3.1885019347705916\n",
      "Validation Stats - ROC AUC: 0.6322620976864228, Accuracy: 0.597177742193755, Precision: 0.08393632416787265, Rank Score: 3.0948434622467773\n",
      "Epoch 1\n",
      "0\n",
      "300\n",
      "600\n",
      "900\n",
      "1200\n",
      "1500\n",
      "1800\n",
      "2100\n",
      "2400\n",
      "2700\n",
      "Training Stats - ROC AUC: 0.7064296262089724, Accuracy: 0.7115692554043235, Precision: 0.12037978975924042, Rank Score: 2.5681315644002214\n",
      "Validation Stats - ROC AUC: 0.6940280067038797, Accuracy: 0.747097678142514, Precision: 0.11514195583596215, Rank Score: 2.6387354205033766\n",
      "Epoch 2\n",
      "0\n",
      "300\n",
      "600\n",
      "900\n",
      "1200\n",
      "1500\n",
      "1800\n",
      "2100\n",
      "2400\n",
      "2700\n",
      "Training Stats - ROC AUC: 0.77493729837291, Accuracy: 0.7419935948759008, Precision: 0.1503433321286592, Rank Score: 2.013266998341625\n",
      "Validation Stats - ROC AUC: 0.7362986458347761, Accuracy: 0.7563050440352281, Precision: 0.12317666126418152, Rank Score: 2.321669736034377\n",
      "Epoch 3\n",
      "0\n",
      "300\n",
      "600\n",
      "900\n",
      "1200\n",
      "1500\n",
      "1800\n",
      "2100\n",
      "2400\n",
      "2700\n",
      "Training Stats - ROC AUC: 0.8406729073576286, Accuracy: 0.7652121697357886, Precision: 0.1838098774600817, Rank Score: 1.4250967385295743\n",
      "Validation Stats - ROC AUC: 0.7577391489027706, Accuracy: 0.7625100080064051, Precision: 0.13662085691188358, Rank Score: 2.220073664825046\n",
      "Epoch 4\n",
      "0\n",
      "300\n",
      "600\n",
      "900\n",
      "1200\n",
      "1500\n",
      "1800\n",
      "2100\n",
      "2400\n",
      "2700\n",
      "Training Stats - ROC AUC: 0.8709584128973467, Accuracy: 0.7368895116092874, Precision: 0.1805019305019305, Rank Score: 1.1727473742399117\n",
      "Validation Stats - ROC AUC: 0.760518950464239, Accuracy: 0.7229783827061649, Precision: 0.12640545144804088, Rank Score: 2.136279926335175\n",
      "Epoch 5\n",
      "0\n",
      "300\n",
      "600\n",
      "900\n",
      "1200\n",
      "1500\n",
      "1800\n",
      "2100\n",
      "2400\n",
      "2700\n",
      "Training Stats - ROC AUC: 0.8908814525451363, Accuracy: 0.669435548438751, Precision: 0.15668559628291173, Rank Score: 0.9083747927031509\n",
      "Validation Stats - ROC AUC: 0.7596205751854879, Accuracy: 0.6497197758206565, Precision: 0.11134732925857029, Rank Score: 2.161448741559239\n",
      "Epoch 6\n",
      "0\n",
      "300\n",
      "600\n",
      "900\n",
      "1200\n",
      "1500\n",
      "1800\n",
      "2100\n",
      "2400\n",
      "2700\n",
      "Training Stats - ROC AUC: 0.9227427954886435, Accuracy: 0.7856285028022418, Precision: 0.22189239332096475, Rank Score: 0.6369541182974019\n",
      "Validation Stats - ROC AUC: 0.7640134631632893, Accuracy: 0.7568054443554844, Precision: 0.1317983326716951, Rank Score: 2.1250767341927563\n",
      "Epoch 7\n",
      "0\n",
      "300\n",
      "600\n",
      "900\n",
      "1200\n",
      "1500\n",
      "1800\n",
      "2100\n",
      "2400\n",
      "2700\n",
      "Training Stats - ROC AUC: 0.9353628859267057, Accuracy: 0.8596877502001601, Precision: 0.29952456418383516, Rank Score: 0.41929242675511336\n",
      "Validation Stats - ROC AUC: 0.7489284411632986, Accuracy: 0.8202562049639712, Precision: 0.1513420902341519, Rank Score: 2.2282074892572132\n",
      "Epoch 8\n",
      "0\n",
      "300\n",
      "600\n",
      "900\n",
      "1200\n",
      "1500\n",
      "1800\n",
      "2100\n",
      "2400\n",
      "2700\n",
      "Training Stats - ROC AUC: 0.953760908219989, Accuracy: 0.9018214571657326, Precision: 0.3851902173913043, Rank Score: 0.3629076838032062\n",
      "Validation Stats - ROC AUC: 0.759366732689724, Accuracy: 0.852582065652522, Precision: 0.1765129682997118, Rank Score: 2.1786372007366483\n",
      "Epoch 9\n",
      "0\n",
      "300\n",
      "600\n",
      "900\n",
      "1200\n",
      "1500\n",
      "1800\n",
      "2100\n",
      "2400\n",
      "2700\n",
      "Training Stats - ROC AUC: 0.9646954531609655, Accuracy: 0.894915932746197, Precision: 0.37225360954174513, Rank Score: 0.2534549474847982\n",
      "Validation Stats - ROC AUC: 0.7638394947158469, Accuracy: 0.8451761409127302, Precision: 0.17771883289124668, Rank Score: 2.156998158379374\n"
     ]
    },
    {
     "data": {
      "text/html": [
       "<style>\n",
       "    table.wandb td:nth-child(1) { padding: 0 10px; text-align: left ; width: auto;} td:nth-child(2) {text-align: left ; width: 100%}\n",
       "    .wandb-row { display: flex; flex-direction: row; flex-wrap: wrap; justify-content: flex-start; width: 100% }\n",
       "    .wandb-col { display: flex; flex-direction: column; flex-basis: 100%; flex: 1; padding: 10px; }\n",
       "    </style>\n",
       "<div class=\"wandb-row\"><div class=\"wandb-col\"><h3>Run history:</h3><br/><table class=\"wandb\"><tr><td>epoch</td><td>▁▂▃▃▄▅▆▆▇█</td></tr><tr><td>train_accuracy</td><td>▁▄▅▅▅▃▆▇██</td></tr><tr><td>train_loss</td><td>█▇▆▅▅▇▄▂▁▁</td></tr><tr><td>train_precision</td><td>▁▂▂▃▃▃▄▆██</td></tr><tr><td>train_rank_score</td><td>█▇▅▄▃▃▂▁▁▁</td></tr><tr><td>train_roc_auc</td><td>▁▃▄▅▆▆▇▇██</td></tr><tr><td>validation_accuracy</td><td>▁▅▅▆▄▂▅▇██</td></tr><tr><td>validation_loss</td><td>█▆▅▄▅▇▄▂▁▁</td></tr><tr><td>validation_precision</td><td>▁▃▄▅▄▃▅▆██</td></tr><tr><td>validation_rank_score</td><td>█▅▂▂▁▁▁▂▁▁</td></tr><tr><td>validation_roc_auc</td><td>▁▄▇████▇██</td></tr></table><br/></div><div class=\"wandb-col\"><h3>Run summary:</h3><br/><table class=\"wandb\"><tr><td>epoch</td><td>9</td></tr><tr><td>train_accuracy</td><td>0.89492</td></tr><tr><td>train_loss</td><td>0.2338</td></tr><tr><td>train_precision</td><td>0.37225</td></tr><tr><td>train_rank_score</td><td>0.25345</td></tr><tr><td>train_roc_auc</td><td>0.9647</td></tr><tr><td>validation_accuracy</td><td>0.84518</td></tr><tr><td>validation_loss</td><td>0.35703</td></tr><tr><td>validation_precision</td><td>0.17772</td></tr><tr><td>validation_rank_score</td><td>2.157</td></tr><tr><td>validation_roc_auc</td><td>0.76384</td></tr></table><br/></div></div>"
      ],
      "text/plain": [
       "<IPython.core.display.HTML object>"
      ]
     },
     "metadata": {},
     "output_type": "display_data"
    },
    {
     "data": {
      "text/html": [
       " View run <strong style=\"color:#cdcd00\">northern-star-18</strong> at: <a href='https://wandb.ai/yushgoel-experiments/exa_reranker/runs/3urtwmp7' target=\"_blank\">https://wandb.ai/yushgoel-experiments/exa_reranker/runs/3urtwmp7</a><br/> View project at: <a href='https://wandb.ai/yushgoel-experiments/exa_reranker' target=\"_blank\">https://wandb.ai/yushgoel-experiments/exa_reranker</a><br/>Synced 5 W&B file(s), 0 media file(s), 0 artifact file(s) and 0 other file(s)"
      ],
      "text/plain": [
       "<IPython.core.display.HTML object>"
      ]
     },
     "metadata": {},
     "output_type": "display_data"
    },
    {
     "data": {
      "text/html": [
       "Find logs at: <code>./wandb/run-20241016_002649-3urtwmp7/logs</code>"
      ],
      "text/plain": [
       "<IPython.core.display.HTML object>"
      ]
     },
     "metadata": {},
     "output_type": "display_data"
    }
   ],
   "source": [
    "model = CrossEncoder(\"google-bert/bert-base-uncased\")\n",
    "model.to(cuda_model)\n",
    "\n",
    "config = {\n",
    "    \"epochs\": 10,\n",
    "    \"num_samples\": 3000,\n",
    "    \"learning_rate\": 6e-5,\n",
    "    \"weight_decay\": 0.005,\n",
    "    \"momentum\": 0.9,\n",
    "    \"model\": \"google-bert/bert-base-uncased\"\n",
    "}\n",
    "\n",
    "wandb.init(project=\"exa_reranker\", config=config)\n",
    "\n",
    "\n",
    "optimizer = torch.optim.SGD(model.parameters(), lr=config[\"learning_rate\"], weight_decay=config[\"weight_decay\"], momentum=config[\"momentum\"])\n",
    "\n",
    "train_eval = {\n",
    "    \"losses\": [],\n",
    "    \"roc_aucs\": [],\n",
    "    \"accuracies\": [],\n",
    "    \"precisions\": [],\n",
    "    \"rank_scores\": []\n",
    "}\n",
    "\n",
    "validation_eval = {\n",
    "    \"losses\": [],\n",
    "    \"roc_aucs\": [],\n",
    "    \"accuracies\": [],\n",
    "    \"precisions\": [],\n",
    "    \"rank_scores\": []\n",
    "}\n",
    "\n",
    "epochs = config[\"epochs\"]\n",
    "num_samples = config[\"num_samples\"]\n",
    "\n",
    "for epoch in range(epochs):\n",
    "    print(f\"Epoch {epoch}\")\n",
    "    for i in range(num_samples):\n",
    "        if i % (num_samples // 10) == 0:\n",
    "            print(i)\n",
    "        \n",
    "        optimizer.zero_grad()\n",
    "        data = ds['train'][i]\n",
    "\n",
    "        tokens = model.tokenizer(\n",
    "            text=[data['query']] * len(data['passages']['passage_text']),\n",
    "            text_pair=data['passages']['passage_text'],\n",
    "            return_tensors='pt',\n",
    "            padding=True\n",
    "        ).to(cuda_model)\n",
    "        \n",
    "        preds = model(tokens.input_ids, tokens.attention_mask)\n",
    "        labels = torch.tensor(data['passages']['is_selected']).float().to(cuda_model)\n",
    "\n",
    "        positive_examples = preds[labels.squeeze() == 1]\n",
    "        negative_examples = preds[labels.squeeze() == 0]\n",
    "\n",
    "        for positive_example in positive_examples:\n",
    "            if len(negative_examples) == 0:\n",
    "                continue\n",
    "            indices = np.random.choice(len(negative_examples), size=3, replace=False)\n",
    "            for idx in indices:\n",
    "                negative_example = negative_examples[idx]\n",
    "                # Compute the loss for the positive-negative pair\n",
    "                loss = torch.nn.functional.binary_cross_entropy(\n",
    "                    torch.cat((positive_example, negative_example), dim=0),\n",
    "                    torch.tensor([1.0, 0.0]).to(cuda_model)\n",
    "                )\n",
    "                loss.backward(retain_graph=True)\n",
    "        \n",
    "        optimizer.step()\n",
    "        \n",
    "        del tokens\n",
    "        del preds\n",
    "        del labels\n",
    "        torch.cuda.empty_cache()\n",
    "    \n",
    "    num_to_eval = 1000\n",
    "    preds_train, labels_train = predict(model, ds['train'].select(range(num_to_eval)))\n",
    "    preds_train_flat, labels_train_flat = flatten(preds_train, labels_train)\n",
    "    train_eval[\"losses\"].append(torch.nn.functional.binary_cross_entropy(torch.tensor(preds_train_flat).float().reshape(1, -1), torch.tensor(labels_train_flat).float().reshape(1, -1)).item())\n",
    "    train_eval[\"roc_aucs\"].append(roc_auc(preds_train_flat, labels_train_flat, flatten=False))\n",
    "    train_eval[\"accuracies\"].append(accuracy(preds_train_flat, labels_train_flat, flatten=False))\n",
    "    train_eval[\"precisions\"].append(precision(preds_train_flat, labels_train_flat, flatten=False))\n",
    "    train_eval[\"rank_scores\"].append(rank_score(preds_train, labels_train))\n",
    "\n",
    "    print(f\"Training Stats - ROC AUC: {train_eval['roc_aucs'][-1]}, Accuracy: {train_eval['accuracies'][-1]}, Precision: {train_eval['precisions'][-1]}, Rank Score: {train_eval['rank_scores'][-1]}\")\n",
    "    \n",
    "    preds, labels = predict(model, ds['validation'].shuffle(seed=42).select(range(num_to_eval)))\n",
    "    preds_flat, labels_flat = flatten(preds, labels)\n",
    "    validation_eval[\"losses\"].append(torch.nn.functional.binary_cross_entropy(torch.tensor(preds_flat).float().reshape(1, -1), torch.tensor(labels_flat).float().reshape(1, -1)).item())\n",
    "    validation_eval[\"roc_aucs\"].append(roc_auc(preds_flat, labels_flat, flatten=False))\n",
    "    validation_eval[\"accuracies\"].append(accuracy(preds_flat, labels_flat, flatten=False))\n",
    "    validation_eval[\"precisions\"].append(precision(preds_flat, labels_flat, flatten=False))\n",
    "    validation_eval[\"rank_scores\"].append(rank_score(preds, labels))\n",
    "    \n",
    "    print(f\"Validation Stats - ROC AUC: {validation_eval['roc_aucs'][-1]}, Accuracy: {validation_eval['accuracies'][-1]}, Precision: {validation_eval['precisions'][-1]}, Rank Score: {validation_eval['rank_scores'][-1]}\")\n",
    "    \n",
    "    wandb.log({\n",
    "        \"epoch\": epoch,\n",
    "        \"train_roc_auc\": train_eval[\"roc_aucs\"][-1],\n",
    "        \"train_accuracy\": train_eval[\"accuracies\"][-1],\n",
    "        \"train_precision\": train_eval[\"precisions\"][-1],\n",
    "        \"train_rank_score\": train_eval[\"rank_scores\"][-1],\n",
    "        \"train_loss\": train_eval[\"losses\"][-1],\n",
    "        \"validation_roc_auc\": validation_eval[\"roc_aucs\"][-1],\n",
    "        \"validation_accuracy\": validation_eval[\"accuracies\"][-1],\n",
    "        \"validation_precision\": validation_eval[\"precisions\"][-1],\n",
    "        \"validation_rank_score\": validation_eval[\"rank_scores\"][-1],\n",
    "        \"validation_loss\": validation_eval[\"losses\"][-1]\n",
    "    })\n",
    "\n",
    "    torch.save(model.state_dict(), f\"model_contrastive_3000_{epoch}.pth\")\n",
    "\n",
    "wandb.finish()\n"
   ]
  },
  {
   "cell_type": "markdown",
   "metadata": {},
   "source": []
  },
  {
   "cell_type": "code",
   "execution_count": 11,
   "metadata": {},
   "outputs": [
    {
     "name": "stderr",
     "output_type": "stream",
     "text": [
      "/tmp/ipykernel_132285/228980569.py:2: FutureWarning: You are using `torch.load` with `weights_only=False` (the current default value), which uses the default pickle module implicitly. It is possible to construct malicious pickle data which will execute arbitrary code during unpickling (See https://github.com/pytorch/pytorch/blob/main/SECURITY.md#untrusted-models for more details). In a future release, the default value for `weights_only` will be flipped to `True`. This limits the functions that could be executed during unpickling. Arbitrary objects will no longer be allowed to be loaded via this mode unless they are explicitly allowlisted by the user via `torch.serialization.add_safe_globals`. We recommend you start setting `weights_only=True` for any use case where you don't have full control of the loaded file. Please open an issue on GitHub for any issues related to this experimental feature.\n",
      "  model.load_state_dict(torch.load(\"model_contrastive_3000_9.pth\"))\n"
     ]
    },
    {
     "name": "stdout",
     "output_type": "stream",
     "text": [
      "2.4902840059790727\n"
     ]
    }
   ],
   "source": [
    "model = CrossEncoder(\"google-bert/bert-base-uncased\")\n",
    "model.load_state_dict(torch.load(\"model_contrastive_3000_9.pth\"))\n",
    "model.to(cuda_model)\n",
    "preds, labels = predict(model, ds['validation'].select(range(1000)))\n",
    "print(rank_score(preds, labels))"
   ]
  },
  {
   "cell_type": "code",
   "execution_count": 14,
   "metadata": {},
   "outputs": [],
   "source": [
    "def strict_rank_score(preds, labels, threshold = 1):\n",
    "    num_in_ones = 0\n",
    "    count = 0\n",
    "    for i in range(len(preds)):\n",
    "        preds_sorted_rank = np.argsort(np.argsort(preds[i])[::-1])\n",
    "        if len(preds_sorted_rank[labels[i] == 1]) > 0:\n",
    "            average_rank = np.mean(preds_sorted_rank[labels[i] == 1])\n",
    "            if average_rank < threshold:\n",
    "                num_in_ones += 1\n",
    "            count += 1\n",
    "    return num_in_ones / count"
   ]
  },
  {
   "cell_type": "code",
   "execution_count": 16,
   "metadata": {},
   "outputs": [
    {
     "data": {
      "text/plain": [
       "(0.26905829596412556,\n",
       " 0.4439461883408072,\n",
       " 0.594170403587444,\n",
       " 0.7040358744394619)"
      ]
     },
     "execution_count": 16,
     "metadata": {},
     "output_type": "execute_result"
    }
   ],
   "source": [
    "strict_rank_score(preds, labels, 1), strict_rank_score(preds, labels, 2), strict_rank_score(preds, labels, 3), strict_rank_score(preds, labels, 4)"
   ]
  },
  {
   "cell_type": "code",
   "execution_count": null,
   "metadata": {},
   "outputs": [],
   "source": [
    "wandb.finish()"
   ]
  },
  {
   "cell_type": "code",
   "execution_count": 18,
   "metadata": {},
   "outputs": [
    {
     "data": {
      "text/plain": [
       "tensor([[0.4709, 0.4634, 0.4648,  ..., 0.4734, 0.4656, 0.4658]])"
      ]
     },
     "execution_count": 18,
     "metadata": {},
     "output_type": "execute_result"
    }
   ],
   "source": [
    "torch.sigmoid(torch.tensor(preds_train_flat)).float().reshape(1, -1)"
   ]
  },
  {
   "cell_type": "code",
   "execution_count": 176,
   "metadata": {},
   "outputs": [
    {
     "data": {
      "text/plain": [
       "[<matplotlib.lines.Line2D at 0x7f23981f6a70>]"
      ]
     },
     "execution_count": 176,
     "metadata": {},
     "output_type": "execute_result"
    },
    {
     "data": {
      "image/png": "[encoded data removed]",
      "text/plain": [
       "<Figure size 640x480 with 1 Axes>"
      ]
     },
     "metadata": {},
     "output_type": "display_data"
    }
   ],
   "source": [
    "plt.plot(rank_scores)"
   ]
  },
  {
   "cell_type": "code",
   "execution_count": 11,
   "metadata": {},
   "outputs": [
    {
     "data": {
      "text/plain": [
       "150000"
      ]
     },
     "execution_count": 11,
     "metadata": {},
     "output_type": "execute_result"
    }
   ],
   "source": [
    "len(losses)"
   ]
  },
  {
   "cell_type": "code",
   "execution_count": 13,
   "metadata": {},
   "outputs": [
    {
     "data": {
      "text/plain": [
       "[<matplotlib.lines.Line2D at 0x7ff1a4302c80>]"
      ]
     },
     "execution_count": 13,
     "metadata": {},
     "output_type": "execute_result"
    },
    {
     "data": {
      "image/png": "[encoded data removed]",
      "text/plain": [
       "<Figure size 640x480 with 1 Axes>"
      ]
     },
     "metadata": {},
     "output_type": "display_data"
    }
   ],
   "source": [
    "plt.plot(val_accuracies)"
   ]
  },
  {
   "cell_type": "code",
   "execution_count": 17,
   "metadata": {},
   "outputs": [
    {
     "data": {
      "text/plain": [
       "[<matplotlib.lines.Line2D at 0x7ff158578ac0>]"
      ]
     },
     "execution_count": 17,
     "metadata": {},
     "output_type": "execute_result"
    },
    {
     "data": {
      "image/png": "[encoded data removed]",
      "text/plain": [
       "<Figure size 640x480 with 1 Axes>"
      ]
     },
     "metadata": {},
     "output_type": "display_data"
    }
   ],
   "source": [
    "# plt.plot(losses[1500:1800])\n",
    "# plt.plot(losses[100:2000])\n",
    "# plt.plot(losses)\n",
    "k = 100\n",
    "plt.plot(np.convolve(val_losses, np.ones(k) / k)[k:])"
   ]
  },
  {
   "cell_type": "code",
   "execution_count": 79,
   "metadata": {},
   "outputs": [
    {
     "name": "stderr",
     "output_type": "stream",
     "text": [
      "/tmp/ipykernel_127774/3070306796.py:16: FutureWarning: `torch.cuda.amp.autocast(args...)` is deprecated. Please use `torch.amp.autocast('cuda', args...)` instead.\n",
      "  with torch.cuda.amp.autocast():  # Mixed precision\n"
     ]
    },
    {
     "name": "stdout",
     "output_type": "stream",
     "text": [
      "0.4979253112033195 0.12061519014010323\n",
      "ROC AUC: 0.8120909576088605, Accuracy: 0.8609523809523809, Precision: 0.17328519855595667\n"
     ]
    }
   ],
   "source": [
    "preds, labels = predict(model, ds['validation'].select(range(1000)))\n",
    "print(f\"ROC AUC: {roc_auc(preds, labels)}, Accuracy: {accuracy(preds, labels)}, Precision: {precision(preds, labels)}\")"
   ]
  },
  {
   "cell_type": "code",
   "execution_count": 44,
   "metadata": {},
   "outputs": [
    {
     "name": "stdout",
     "output_type": "stream",
     "text": [
      "{'input_ids': tensor([[  101,  1007,  2054,  2001,  1996,  6234,  4254,  1997,  1996,  3112,\n",
      "          1997,  1996,  7128,  2622,  1029,   102,  1996,  7128,  2622,  1012,\n",
      "          2023,  2320,  6219,  9982,  2838,  1996,  2034,  9593,  5968,  1517,\n",
      "          1037,  5195,  2008,  9593,  6529,  2018,  9919, 11721, 24291,  1012,\n",
      "          1012,  1996,  4517,  2287,  2211,  2006,  2251,  2385,  1010,  3386,\n",
      "          1010,  2043,  2009,  2001, 28110,  1999,  1996,  2047,  3290,  5532,\n",
      "          1012,   102]], device='cuda:0'), 'token_type_ids': tensor([[0, 0, 0, 0, 0, 0, 0, 0, 0, 0, 0, 0, 0, 0, 0, 0, 1, 1, 1, 1, 1, 1, 1, 1,\n",
      "         1, 1, 1, 1, 1, 1, 1, 1, 1, 1, 1, 1, 1, 1, 1, 1, 1, 1, 1, 1, 1, 1, 1, 1,\n",
      "         1, 1, 1, 1, 1, 1, 1, 1, 1, 1, 1, 1, 1, 1]], device='cuda:0'), 'attention_mask': tensor([[1, 1, 1, 1, 1, 1, 1, 1, 1, 1, 1, 1, 1, 1, 1, 1, 1, 1, 1, 1, 1, 1, 1, 1,\n",
      "         1, 1, 1, 1, 1, 1, 1, 1, 1, 1, 1, 1, 1, 1, 1, 1, 1, 1, 1, 1, 1, 1, 1, 1,\n",
      "         1, 1, 1, 1, 1, 1, 1, 1, 1, 1, 1, 1, 1, 1]], device='cuda:0')}\n"
     ]
    },
    {
     "data": {
      "text/plain": [
       "tensor([[-1.4949]], device='cuda:0', grad_fn=<AddmmBackward0>)"
      ]
     },
     "execution_count": 44,
     "metadata": {},
     "output_type": "execute_result"
    }
   ],
   "source": [
    "tokens = model.tokenizer(text=ds['train'][0]['query'], text_pair=ds['train'][0]['passages']['passage_text'][5], return_tensors='pt', padding=True).to(cuda_model)\n",
    "print(tokens)\n",
    "model(tokens.input_ids, tokens.attention_mask)"
   ]
  },
  {
   "cell_type": "code",
   "execution_count": 51,
   "metadata": {},
   "outputs": [
    {
     "data": {
      "text/plain": [
       "{'answers': ['Restorative justice that fosters dialogue between victim and offender has shown the highest rates of victim satisfaction and offender accountability.'],\n",
       " 'passages': {'is_selected': [0, 0, 0, 0, 0, 0, 1, 0, 0, 0],\n",
       "  'passage_text': ['group discussions, community boards or panels with a third party, or victim and offender dialogues, and requires a skilled facilitator who also has sufficient understanding of sexual assault, domestic violence, and dating violence, as well as trauma and safety issues.',\n",
       "   \"punishment designed to repair the damage done to the victim and community by an offender's criminal act. Ex: community service, Big Brother program indeterminate sentence\",\n",
       "   'Tutorial: Introduction to Restorative Justice. Restorative justice is a theory of justice that emphasizes repairing the harm caused by criminal behaviour. It is best accomplished through cooperative processes that include all stakeholders. This can lead to transformation of people, relationships and communities. Practices and programs reflecting restorative purposes will respond to crime by: 1  identifying and taking steps to repair harm, 2  involving all stakeholders, and. 3  transforming the traditional relationship between communities and their governments in responding to crime.',\n",
       "   'Organize volunteer community panels, boards, or committees that meet with the offender to discuss the incident and offender obligation to repair the harm to victims and community members. Facilitate the process of apologies to victims and communities. Invite local victim advocates to provide ongoing victim-awareness training for probation staff.',\n",
       "   'The purpose of this paper is to point out a number of unresolved issues in the criminal justice system, present the underlying principles of restorative justice, and then to review the growing amount of empirical data on victim-offender mediation.',\n",
       "   'Each of these types of communities—the geographic community of the victim, offender, or crime; the community of care; and civil society—may be injured by crime in different ways and degrees, but all will be affected in common ways as well: The sense of safety and confidence of their members is threatened, order within the community is threatened, and (depending on the kind of crime) common values of the community are challenged and perhaps eroded.',\n",
       "   'The approach is based on a theory of justice that considers crime and wrongdoing to be an offense against an individual or community, rather than the State. Restorative justice that fosters dialogue between victim and offender has shown the highest rates of victim satisfaction and offender accountability.',\n",
       "   'Inherent in many people’s understanding of the notion of ADR is the existence of a dispute between identifiable parties. Criminal justice, however, is not usually conceptualised as a dispute between victim and offender, but is instead seen as a matter concerning the relationship between the offender and the state. This raises a complex question as to whether a criminal offence can properly be described as a ‘dispute’.',\n",
       "   'Criminal justice, however, is not usually conceptualised as a dispute between victim and offender, but is instead seen as a matter concerning the relationship between the offender and the state. 3 This raises a complex question as to whether a criminal offence can properly be described as a ‘dispute’.',\n",
       "   'The circle includes a wide range of participants including not only the offender and the victim but also friends and families, community members, and justice system representatives. The primary distinction between conferencing and circles is that circles do not focus exclusively on the offense and do not limit their solutions to repairing the harm between the victim and the offender.'],\n",
       "  'url': ['https://www.justice.gov/ovw/file/926101/download',\n",
       "   'https://quizlet.com/1128245/criminal-justice-exam-1-flash-cards/',\n",
       "   'http://restorativejustice.org/restorative-justice/about-restorative-justice/tutorial-intro-to-restorative-justice/',\n",
       "   'https://www.ojjdp.gov/pubs/implementing/accountability.html',\n",
       "   'http://www.westerncriminology.org/documents/WCR/v01n1/Umbreit/Umbreit.html',\n",
       "   'https://www.sciencedirect.com/science/article/pii/B9781455731398000030',\n",
       "   'https://en.wikipedia.org/wiki/Restorative_justice',\n",
       "   'http://www.adrac.org.au/adr-mapping/criminal-justice-and-adr',\n",
       "   'https://www.mediate.com/articles/kirschnersbl20180126.cfm',\n",
       "   'https://www.sciencedirect.com/science/article/pii/B978145572599100014X']},\n",
       " 'query': '_________ justice is designed to repair the harm to victim, the community and the offender caused by the offender criminal act. question 19 options:',\n",
       " 'query_id': 1185868,\n",
       " 'query_type': 'DESCRIPTION',\n",
       " 'wellFormedAnswers': []}"
      ]
     },
     "execution_count": 51,
     "metadata": {},
     "output_type": "execute_result"
    }
   ],
   "source": [
    "ds['train'][1]"
   ]
  },
  {
   "cell_type": "code",
   "execution_count": 11,
   "metadata": {},
   "outputs": [],
   "source": [
    "torch.cuda.empty_cache()"
   ]
  },
  {
   "cell_type": "code",
   "execution_count": null,
   "metadata": {},
   "outputs": [],
   "source": []
  }
 ],
 "metadata": {
  "kernelspec": {
   "display_name": "Python 3",
   "language": "python",
   "name": "python3"
  },
  "language_info": {
   "codemirror_mode": {
    "name": "ipython",
    "version": 3
   },
   "file_extension": ".py",
   "mimetype": "text/x-python",
   "name": "python",
   "nbconvert_exporter": "python",
   "pygments_lexer": "ipython3",
   "version": "3.10.14"
  }
 },
 "nbformat": 4,
 "nbformat_minor": 2
}
